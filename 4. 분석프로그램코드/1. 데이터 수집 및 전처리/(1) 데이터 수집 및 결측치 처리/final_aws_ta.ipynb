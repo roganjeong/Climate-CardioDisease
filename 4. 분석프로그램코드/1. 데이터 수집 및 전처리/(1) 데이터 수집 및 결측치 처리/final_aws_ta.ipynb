{
 "cells": [
  {
   "cell_type": "markdown",
   "id": "f0382b3a-0175-4056-8b62-1004f3d63363",
   "metadata": {},
   "source": [
    "# 기본전처리"
   ]
  },
  {
   "cell_type": "code",
   "execution_count": null,
   "id": "533a017d-0d75-4724-9679-9cad2096c601",
   "metadata": {},
   "outputs": [],
   "source": [
    "import pandas as pd\n",
    "import numpy as np\n",
    "import matplotlib.pyplot as plt\n",
    "import seaborn as sns"
   ]
  },
  {
   "cell_type": "code",
   "execution_count": null,
   "id": "a1ecb041-194e-4b4e-9462-c6b88e51cafc",
   "metadata": {},
   "outputs": [],
   "source": [
    "df = pd.read_csv(\"db_aws_rhm_dd.csv\", encoding = \"utf-8-sig\")"
   ]
  },
  {
   "cell_type": "code",
   "execution_count": null,
   "id": "eb181340-5d87-4acd-8347-04c2c12581ba",
   "metadata": {},
   "outputs": [],
   "source": [
    "def preprocess(df, dfname = \"\", to_csv = False):\n",
    "    if type(df) == str: #df대신 df 경로 및 파일명 입력시\n",
    "        df = pd.read_csv(df, encoding = \"utf-8-sig\")\n",
    "    if df.columns[0] == \"Unnamed: 0\":\n",
    "        df = df.loc[:, 1:]\n",
    "    df.columns = [x.replace(\"a.\", \"\") for x in df.columns] #colnames\n",
    "    df[\"yyyymmdd\"] = df[df.columns[0]].apply(lambda x: int(x.split(\" \")[0].replace(\"-\", \"\")))\n",
    "    df = df.loc[:, df.isnull().mean() != 1]\n",
    "    if to_csv == True:\n",
    "        df.to_csv(dfname + \".csv\", index = False, encoding = \"utf-8-sig\")\n",
    "    return df\n",
    "\n",
    "def daily(df, back, dfname = \"\", to_csv = False):\n",
    "    if type(df) == str: #df대신 df 경로 및 파일명 입력시\n",
    "        df = pd.read_csv(df, encoding = \"utf-8-sig\")\n",
    "    final = pd.DataFrame()\n",
    "    for s in df[\"stn_id\"].unique():\n",
    "        print(s, \" is processing\")\n",
    "        ss = pd.merge(back, df[df[\"stn_id\"] == s], how = \"left\", on = \"yyyymmdd\")\n",
    "        ss[\"stn_id\"] = s\n",
    "        final = pd.concat([final, ss], axis = 0)\n",
    "    if to_csv == True:\n",
    "        final.to_csv(dfname + \".csv\", encoding = \"utf-8-sig\", index = False)\n",
    "    return final\n",
    "\n",
    "def after_daily(df, area, dfname = \"\", to_csv = False):\n",
    "    if type(df) == str:\n",
    "        df = pd.read_csv(df)\n",
    "    if \"isnull\" in df.columns:\n",
    "        df.drop(\"isnull\", axis = 1, inplace = True)\n",
    "    df.drop(df.columns[[\"Unnamed\" in x for x in df.columns]], axis = 1, inplace = True)\n",
    "    tm = df.columns[[\"tm\" in x for x in df.columns]][0]\n",
    "    df[tm] = df[\"yyyymmdd\"].apply(lambda x: str(x)[:4] + \"-\" + str(x)[4:6] + \"-\" + str(x)[6:])\n",
    "    idx = df.columns[[x not in [\"yyyymmdd\", tm, \"stn_id\"] for x in df.columns]]\n",
    "    print(idx)\n",
    "    df = pd.merge(df, area, how = \"left\", on = \"stn_id\")\n",
    "    for i in df[df[\"name\"].isnull()][\"stn_id\"].unique():\n",
    "        #step 1 :과반수 이상의 열에서 해당 관측소 결측 50% 이상\n",
    "        #if (np.round(df.query(\"stn_id == @i\")[idx].isnull().mean(), 1) > 0.5).mean() > 0.5:\n",
    "        #    df = df.query(\"stn_id != @i\").reset_index(drop = True)\n",
    "        #step 2 : 필요한 기간의 데이터가 없을 경우(특히 타겟시점!)\n",
    "        un = df.query(\"stn_id == @i\").dropna(subset = idx)[tm].apply(lambda x: x[:4]).unique()\n",
    "        if \"2011\" in un and len(un) < 6:\n",
    "            df = df.query(\"stn_id != @i\").reset_index(drop = True)\n",
    "        elif len(un) < 4 or \"2016\" not in un:\n",
    "            df = df.query(\"stn_id != @i\").reset_index(drop = True)\n",
    "    if to_csv == True:\n",
    "        df.to_csv(dfname + \".csv\", encoding = \"utf-8-sig\", index = False)\n",
    "    return idx, df"
   ]
  },
  {
   "cell_type": "code",
   "execution_count": null,
   "id": "7f89ed7c-f0a6-4664-ae81-77789d58ae3c",
   "metadata": {},
   "outputs": [],
   "source": [
    "df = preprocess(df)\n",
    "print(df.isnull().sum())\n",
    "df"
   ]
  },
  {
   "cell_type": "code",
   "execution_count": null,
   "id": "e40a34d7-c5bf-48f5-b03f-cfd5a17154b0",
   "metadata": {},
   "outputs": [],
   "source": [
    "back_path = \"/Users/seong-yeseul/Downloads/pm10_agg_mac.csv\" #경로는 알아서,,\n",
    "back = pd.DataFrame(pd.read_csv(back_path, encoding = \"utf-8-sig\")[\"yyyymmdd\"].unique(), columns = [\"yyyymmdd\"])\n",
    "df = daily(df, back)\n",
    "print(df.isnull().sum())\n",
    "df"
   ]
  },
  {
   "cell_type": "code",
   "execution_count": null,
   "id": "115caa24-c100-40ed-9905-5fd56a484f58",
   "metadata": {},
   "outputs": [],
   "source": [
    "df.to_csv(\"daily_aws_ta.csv\", encoding = \"utf-8-sig\", index = False)"
   ]
  },
  {
   "cell_type": "code",
   "execution_count": 1,
   "id": "22cbc586-2773-4a98-82d3-84861a955704",
   "metadata": {},
   "outputs": [],
   "source": [
    "import pandas as pd\n",
    "import numpy as np\n",
    "import matplotlib.pyplot as plt\n",
    "import seaborn as sns"
   ]
  },
  {
   "cell_type": "markdown",
   "id": "64046eab-4ff4-4b0f-aee2-0d7d83cbcf06",
   "metadata": {},
   "source": [
    "# Mapping"
   ]
  },
  {
   "cell_type": "code",
   "execution_count": 44,
   "id": "85daa402-a5c5-4c31-9283-8ff5cfbf0a3a",
   "metadata": {},
   "outputs": [],
   "source": [
    "area = pd.read_csv(\"mapping_0712.csv\")\n",
    "df = pd.read_csv(\"daily_aws_ta.csv\")"
   ]
  },
  {
   "cell_type": "code",
   "execution_count": 32,
   "id": "612b0aae-6503-456d-8f67-ab9852d20de0",
   "metadata": {},
   "outputs": [],
   "source": [
    "def after_daily(df, area, dfname = \"\", to_csv = False):\n",
    "    if type(df) == str:\n",
    "        df = pd.read_csv(df)\n",
    "    df.drop(df.columns[[\"Unnamed\" in x for x in df.columns]], axis = 1, inplace = True)\n",
    "    tm = df.columns[[\"tm\" in x for x in df.columns]][0]\n",
    "    df[tm] = df[\"yyyymmdd\"].apply(lambda x: str(x)[:4] + \"-\" + str(x)[4:6] + \"-\" + str(x)[6:])\n",
    "    idx = df.columns[[x not in [\"yyyymmdd\", tm, \"stn_id\"] for x in df.columns]]\n",
    "    print(idx)\n",
    "    df = pd.merge(df, area, how = \"left\", on = \"stn_id\")\n",
    "    for i in df[df[\"name\"].isnull()][\"stn_id\"].unique():\n",
    "        #step 1 :과반수 이상의 열에서 해당 관측소 결측 50% 이상\n",
    "        if (np.round(df.query(\"stn_id == @i\")[idx].isnull().mean(), 1) > 0.5).mean() > 0.5:\n",
    "            df = df.query(\"stn_id != @i\").reset_index(drop = True)\n",
    "        #step 2 : 필요한 기간의 데이터가 없을 경우(특히 타겟시점!)\n",
    "        un = df.query(\"stn_id == @i\").dropna(subset = idx)[tm].apply(lambda x: x[:4]).unique()\n",
    "        if \"2011\" in un and len(un) < 6:\n",
    "            df = df.query(\"stn_id != @i\").reset_index(drop = True)\n",
    "        elif len(un) < 4 or \"2016\" not in un:\n",
    "            df = df.query(\"stn_id != @i\").reset_index(drop = True)\n",
    "    if to_csv == True:\n",
    "        df.to_csv(dfname + \".csv\", encoding = \"utf-8-sig\", index = False)\n",
    "    return idx, df"
   ]
  },
  {
   "cell_type": "code",
   "execution_count": 45,
   "id": "85ebf471-b4d0-440f-963e-e6e4a939a3ff",
   "metadata": {},
   "outputs": [
    {
     "name": "stdout",
     "output_type": "stream",
     "text": [
      "Index(['avg_rhm', 'min_rhm', 'min_rhm_hrmt'], dtype='object')\n"
     ]
    }
   ],
   "source": [
    "idx, df = after_daily(df, area)"
   ]
  },
  {
   "cell_type": "code",
   "execution_count": 47,
   "id": "179ee2bc-26cd-436c-8c43-499e57933a62",
   "metadata": {},
   "outputs": [
    {
     "name": "stdout",
     "output_type": "stream",
     "text": [
      "yyyymmdd             0\n",
      "tma                  0\n",
      "stn_id               0\n",
      "avg_rhm         751571\n",
      "min_rhm         728893\n",
      "min_rhm_hrmt    728885\n",
      "name             74528\n",
      "address          74528\n",
      "lat              74528\n",
      "long             74528\n",
      "add              74528\n",
      "dtype: int64\n",
      "0.047156726768377254\n"
     ]
    }
   ],
   "source": [
    "print(df.isnull().sum())\n",
    "print(df[df[\"name\"].isnull()].shape[0] / df.shape[0])"
   ]
  },
  {
   "cell_type": "code",
   "execution_count": 48,
   "id": "709ec658-f874-46c4-9b86-95dfc51c9eb9",
   "metadata": {},
   "outputs": [
    {
     "data": {
      "text/plain": [
       "yyyymmdd             0\n",
       "tma                  0\n",
       "stn_id               0\n",
       "avg_rhm         721320\n",
       "min_rhm         699286\n",
       "min_rhm_hrmt    699278\n",
       "name                 0\n",
       "address              0\n",
       "lat                  0\n",
       "long                 0\n",
       "add                  0\n",
       "dtype: int64"
      ]
     },
     "execution_count": 48,
     "metadata": {},
     "output_type": "execute_result"
    }
   ],
   "source": [
    "df = df.dropna(subset = [\"name\"]).reset_index(drop = True)\n",
    "df.isnull().sum()"
   ]
  },
  {
   "cell_type": "code",
   "execution_count": 53,
   "id": "0dd10e85-72d6-495e-8155-9e6d1524742a",
   "metadata": {},
   "outputs": [],
   "source": [
    "df.to_csv(\"null_aws_ta.csv\", encoding = \"utf-8-sig\", index = False)"
   ]
  },
  {
   "cell_type": "markdown",
   "id": "e075ca80-1b51-46b0-b1c6-ca03c1d28802",
   "metadata": {},
   "source": [
    "# 결측치 : 거리 기준 평균"
   ]
  },
  {
   "cell_type": "code",
   "execution_count": 58,
   "id": "b934e518-f2b7-41a2-87c7-1932c2193955",
   "metadata": {},
   "outputs": [
    {
     "data": {
      "text/plain": [
       "yyyymmdd        0\n",
       "tma             0\n",
       "stn_id          0\n",
       "avg_rhm         0\n",
       "min_rhm         0\n",
       "min_rhm_hrmt    0\n",
       "name            0\n",
       "address         0\n",
       "lat             0\n",
       "long            0\n",
       "add             0\n",
       "dtype: int64"
      ]
     },
     "execution_count": 58,
     "metadata": {},
     "output_type": "execute_result"
    }
   ],
   "source": [
    "#이게 결측치 채우는 코드임!!!\n",
    "area3 = df[[\"stn_id\", \"name\", \"lat\", \"long\", \"add\"]].drop_duplicates().reset_index(drop = True)\n",
    "for col in idx:\n",
    "    for s in df[df[col].isnull()][\"stn_id\"].unique():\n",
    "        latlon = df.query(\"stn_id == @s\")[[\"lat\", \"long\"]].drop_duplicates().values[0]\n",
    "        x = (np.cos(latlon[0]) * 6400 * 2 * np.pi / 360) * np.abs(latlon[1] - area3[[\"long\"]])\n",
    "        y = 111 * np.abs(latlon[0] - area3[\"lat\"])\n",
    "        distance = np.sqrt((x**2).squeeze() + y**2).sort_values().head(6)\n",
    "        dd = pd.concat([area3.iloc[distance.index.to_list(), :], pd.DataFrame(distance, columns = [\"dist\"])], axis = 1)\n",
    "        #display(dd)\n",
    "        tg = df[df[\"stn_id\"] == s]\n",
    "        ss = dd[\"stn_id\"]\n",
    "        ii = tg[tg[col].isnull()].index\n",
    "        ymd = df.loc[ii, \"yyyymmdd\"]\n",
    "        #display(df.loc[ii, :])\n",
    "        df.loc[ii, col] = np.nanmean(df.query(\"stn_id in @ss and stn_id != @s\").pivot(index = \"yyyymmdd\", columns = \"stn_id\", values = col).query(\"yyyymmdd in @ymd\"), axis = 1)\n",
    "        #print(np.nanmean(df.query(\"stn_id in @ss and stn_id != @s\").pivot(index = \"yyyymmdd\", columns = \"stn_id\", values = col).query(\"yyyymmdd in @ymd\"), axis = 1))\n",
    "df.isnull().sum()"
   ]
  },
  {
   "cell_type": "code",
   "execution_count": 59,
   "id": "614587b0-614a-42e0-ae4f-81c51b33ffc0",
   "metadata": {},
   "outputs": [],
   "source": [
    "df.to_csv(\"final_aws_ta.csv\", encoding = \"utf-8-sig\", index = False)"
   ]
  }
 ],
 "metadata": {
  "kernelspec": {
   "display_name": "atf24",
   "language": "python",
   "name": "atf24"
  },
  "language_info": {
   "codemirror_mode": {
    "name": "ipython",
    "version": 3
   },
   "file_extension": ".py",
   "mimetype": "text/x-python",
   "name": "python",
   "nbconvert_exporter": "python",
   "pygments_lexer": "ipython3",
   "version": "3.8.12"
  }
 },
 "nbformat": 4,
 "nbformat_minor": 5
}
