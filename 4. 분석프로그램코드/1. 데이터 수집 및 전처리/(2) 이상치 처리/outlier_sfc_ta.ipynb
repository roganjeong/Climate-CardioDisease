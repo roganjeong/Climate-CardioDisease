{
 "cells": [
  {
   "cell_type": "code",
   "execution_count": 1,
   "id": "3b0980cb",
   "metadata": {},
   "outputs": [],
   "source": [
    "import pandas as pd\n",
    "import numpy as np\n",
    "import matplotlib.pyplot as plt\n",
    "import seaborn as sns\n",
    "import os"
   ]
  },
  {
   "cell_type": "code",
   "execution_count": null,
   "id": "33946d10",
   "metadata": {},
   "outputs": [],
   "source": [
    "path = '/Users/ochaeyeong/Downloads'\n",
    "os.chdir(path)\n",
    "os.getcwd()"
   ]
  },
  {
   "cell_type": "code",
   "execution_count": null,
   "id": "5e2cf582",
   "metadata": {},
   "outputs": [],
   "source": [
    "df = pd.read_csv('final_sfc_ta.csv')\n",
    "df.head()"
   ]
  },
  {
   "cell_type": "code",
   "execution_count": null,
   "id": "1414af4c",
   "metadata": {},
   "outputs": [],
   "source": [
    "# 평균 기온\n",
    "# 최소/ 최대값 확인\n",
    "np.min(df['avg_ta'])\n",
    "np.max(df['avg_ta'])"
   ]
  },
  {
   "cell_type": "code",
   "execution_count": null,
   "id": "1ac5a350",
   "metadata": {},
   "outputs": [],
   "source": [
    "# 그래프로 분포 확인\n",
    "sns.regplot('yyyymmdd', 'avg_ta', data=df)"
   ]
  },
  {
   "cell_type": "code",
   "execution_count": null,
   "id": "7a1b076f",
   "metadata": {},
   "outputs": [],
   "source": [
    "sns.boxplot(y='avg_ta', data=df)"
   ]
  },
  {
   "cell_type": "code",
   "execution_count": null,
   "id": "cd858b14",
   "metadata": {},
   "outputs": [],
   "source": [
    "# 1,2,3,4분위수 및 하위/상위 1% 값 확인\n",
    "q01 = np.percentile(df['avg_ta'],1)\n",
    "q1 = np.percentile(df['avg_ta'],25)\n",
    "q2 = np.percentile(df['avg_ta'], 50)\n",
    "q3 = np.percentile(df['avg_ta'],75)\n",
    "q99 = np.percentile(df['avg_ta'],99)\n",
    "iqr = q3-q1\n",
    "print(q01,q1,q2,q3,q99,iqr)"
   ]
  },
  {
   "cell_type": "code",
   "execution_count": null,
   "id": "48769068",
   "metadata": {},
   "outputs": [],
   "source": [
    "# 하위 iqr 확인 \n",
    "m = q1 - 1.5*iqr\n",
    "m\n",
    "\n",
    "# 상위 iqr 확인\n",
    "n = q3 + 1.5*iqr\n",
    "n"
   ]
  },
  {
   "cell_type": "code",
   "execution_count": null,
   "id": "7a0d387f",
   "metadata": {},
   "outputs": [],
   "source": [
    "# 하위 iqr 보다 작은 값 확인\n",
    "df[df['avg_ta'] < m]"
   ]
  },
  {
   "cell_type": "code",
   "execution_count": null,
   "id": "ada76448",
   "metadata": {},
   "outputs": [],
   "source": [
    "# 상위 iqr 보다 큰 값 확인\n",
    "df[df['avg_ta'] > n]"
   ]
  },
  {
   "cell_type": "code",
   "execution_count": null,
   "id": "94deb336",
   "metadata": {},
   "outputs": [],
   "source": [
    "# 최고 기온\n",
    "# 최소/ 최대값 확인\n",
    "np.min(df['max_ta'])\n",
    "np.max(df['max_ta'])"
   ]
  },
  {
   "cell_type": "code",
   "execution_count": null,
   "id": "6a6c6cab",
   "metadata": {},
   "outputs": [],
   "source": [
    "# 그래프로 분포 확인\n",
    "sns.regplot('yyyymmdd', 'max_ta', data=df)"
   ]
  },
  {
   "cell_type": "code",
   "execution_count": null,
   "id": "feccb124",
   "metadata": {},
   "outputs": [],
   "source": [
    "sns.boxplot(y='max_ta', data=df)"
   ]
  },
  {
   "cell_type": "code",
   "execution_count": null,
   "id": "8db7389d",
   "metadata": {},
   "outputs": [],
   "source": [
    "# 1,2,3,4분위수 및 하위/상위 1% 값 확인\n",
    "q01 = np.percentile(df['max_ta'],1)\n",
    "q1 = np.percentile(df['max_ta'],25)\n",
    "q2 = np.percentile(df['max_ta'], 50)\n",
    "q3 = np.percentile(df['max_ta'],75)\n",
    "q99 = np.percentile(df['max_ta'],99)\n",
    "iqr = q3-q1\n",
    "print(q01,q1,q2,q3,q99,iqr)"
   ]
  },
  {
   "cell_type": "code",
   "execution_count": null,
   "id": "fdbc39db",
   "metadata": {},
   "outputs": [],
   "source": [
    "# 하위 iqr 확인 \n",
    "m = q1 - 1.5*iqr\n",
    "m\n",
    "\n",
    "# 상위 iqr 확인\n",
    "n = q3 + 1.5*iqr\n",
    "n"
   ]
  },
  {
   "cell_type": "code",
   "execution_count": null,
   "id": "617fa5dd",
   "metadata": {},
   "outputs": [],
   "source": [
    "# 하위 iqr 보다 작은 값 확인\n",
    "df[df['max_ta'] < m]"
   ]
  },
  {
   "cell_type": "code",
   "execution_count": null,
   "id": "82c1e4ae",
   "metadata": {},
   "outputs": [],
   "source": [
    "# 상위 iqr 보다 큰 값 확인\n",
    "df[df['max_ta'] > n]"
   ]
  },
  {
   "cell_type": "code",
   "execution_count": null,
   "id": "2c7f52f4",
   "metadata": {},
   "outputs": [],
   "source": [
    "# 최저 기온\n",
    "# 최소/ 최대값 확인\n",
    "np.min(df['min_ta'])\n",
    "np.max(df['min_ta'])"
   ]
  },
  {
   "cell_type": "code",
   "execution_count": null,
   "id": "ab050fa2",
   "metadata": {},
   "outputs": [],
   "source": [
    "# 그래프로 분포 확인\n",
    "sns.regplot('yyyymmdd', 'min_ta', data=df)"
   ]
  },
  {
   "cell_type": "code",
   "execution_count": null,
   "id": "66811bd6",
   "metadata": {},
   "outputs": [],
   "source": [
    "sns.boxplot(y='min_ta', data=df)"
   ]
  },
  {
   "cell_type": "code",
   "execution_count": null,
   "id": "7f5516ca",
   "metadata": {},
   "outputs": [],
   "source": [
    "# 1,2,3,4분위수 및 하위/상위 1% 값 확인\n",
    "q01 = np.percentile(df['min_ta'],1)\n",
    "q1 = np.percentile(df['min_ta'],25)\n",
    "q2 = np.percentile(df['min_ta'], 50)\n",
    "q3 = np.percentile(df['min_ta'],75)\n",
    "q99 = np.percentile(df['min_ta'],99)\n",
    "iqr = q3-q1\n",
    "print(q01,q1,q2,q3,q99,iqr)"
   ]
  },
  {
   "cell_type": "code",
   "execution_count": null,
   "id": "faef87d1",
   "metadata": {},
   "outputs": [],
   "source": [
    "# 하위 iqr 확인 \n",
    "m = q1 - 1.5*iqr\n",
    "m\n",
    "\n",
    "# 상위 iqr 확인\n",
    "n = q3 + 1.5*iqr\n",
    "n"
   ]
  },
  {
   "cell_type": "code",
   "execution_count": null,
   "id": "a973c40e",
   "metadata": {},
   "outputs": [],
   "source": [
    "# 하위 iqr 보다 낮은 값 확인\n",
    "df[df['min_ta'] < m]"
   ]
  },
  {
   "cell_type": "code",
   "execution_count": null,
   "id": "26c6a9e2",
   "metadata": {},
   "outputs": [],
   "source": [
    "# 상위 iqr 보다 큰 값 확인\n",
    "df[df['min_ta'] > n]"
   ]
  },
  {
   "cell_type": "code",
   "execution_count": null,
   "id": "12ce640d",
   "metadata": {},
   "outputs": [],
   "source": [
    "df.to_csv('final_sfc_ta_0709.csv', encoding = 'utf-8-sig')"
   ]
  }
 ],
 "metadata": {
  "kernelspec": {
   "display_name": "Python 3 (ipykernel)",
   "language": "python",
   "name": "python3"
  },
  "language_info": {
   "codemirror_mode": {
    "name": "ipython",
    "version": 3
   },
   "file_extension": ".py",
   "mimetype": "text/x-python",
   "name": "python",
   "nbconvert_exporter": "python",
   "pygments_lexer": "ipython3",
   "version": "3.10.2"
  }
 },
 "nbformat": 4,
 "nbformat_minor": 5
}
