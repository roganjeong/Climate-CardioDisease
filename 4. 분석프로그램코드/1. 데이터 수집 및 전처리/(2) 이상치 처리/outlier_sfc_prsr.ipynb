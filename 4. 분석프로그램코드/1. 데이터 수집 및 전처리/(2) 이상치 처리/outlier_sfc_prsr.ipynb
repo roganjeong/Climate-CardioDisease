{
 "cells": [
  {
   "cell_type": "code",
   "execution_count": null,
   "id": "1895c9ac",
   "metadata": {},
   "outputs": [],
   "source": [
    "import pandas as pd\n",
    "import numpy as np\n",
    "import matplotlib.pyplot as plt\n",
    "import seaborn as sns\n",
    "import os"
   ]
  },
  {
   "cell_type": "code",
   "execution_count": null,
   "id": "9836ec51",
   "metadata": {},
   "outputs": [],
   "source": [
    "path = '/Users/ochaeyeong/Downloads'\n",
    "os.chdir(path)\n",
    "os.getcwd()"
   ]
  },
  {
   "cell_type": "code",
   "execution_count": null,
   "id": "c440889f",
   "metadata": {},
   "outputs": [],
   "source": [
    "df = pd.read_csv('final_sfc_prsr.csv')\n",
    "df.head()"
   ]
  },
  {
   "cell_type": "code",
   "execution_count": null,
   "id": "af5b15bb",
   "metadata": {},
   "outputs": [],
   "source": [
    "# 평균 기압\n",
    "# 최소/최대값 확인\n",
    "np.min(df['avg_ps'])\n",
    "np.max(df['avg_ps'])\n",
    "\n",
    "df[df['avg_ps'] == 983.9]\n",
    "df[df['avg_ps'] == 1039.5]"
   ]
  },
  {
   "cell_type": "code",
   "execution_count": null,
   "id": "915616bd",
   "metadata": {},
   "outputs": [],
   "source": [
    "# 그래프로 분포 확인\n",
    "sns.regplot('yyyymmdd', 'avg_ps', data=df)"
   ]
  },
  {
   "cell_type": "code",
   "execution_count": null,
   "id": "fc86ebbd",
   "metadata": {},
   "outputs": [],
   "source": [
    "sns.boxplot(y = 'avg_ps', data = df)"
   ]
  },
  {
   "cell_type": "code",
   "execution_count": null,
   "id": "5c688491",
   "metadata": {},
   "outputs": [],
   "source": [
    "# 1,2,3 분위수 및 하위/상위 1% 값 확인\n",
    "q01 = np.percentile(df['avg_ps'],1)\n",
    "q1 = np.percentile(df['avg_ps'],25)\n",
    "q2 = np.percentile(df['avg_ps'], 50)\n",
    "q3 = np.percentile(df['avg_ps'],75)\n",
    "q99 = np.percentile(df['avg_ps'],99)\n",
    "iqr = q3-q1\n",
    "print(q01,q1,q2,q3,q99,iqr)"
   ]
  },
  {
   "cell_type": "code",
   "execution_count": null,
   "id": "245590cc",
   "metadata": {},
   "outputs": [],
   "source": [
    "# 하위 iqr 확인 \n",
    "m = q1 - 1.5*iqr\n",
    "m\n",
    "\n",
    "# 상위 iqr 확인\n",
    "n = q3 + 1.5*iqr\n",
    "n"
   ]
  },
  {
   "cell_type": "code",
   "execution_count": null,
   "id": "5002b2ea",
   "metadata": {},
   "outputs": [],
   "source": [
    "# 하위 iqr 보다 작은 데이터 확인\n",
    "df[df['avg_ps'] < m]"
   ]
  },
  {
   "cell_type": "code",
   "execution_count": null,
   "id": "27508e7d",
   "metadata": {},
   "outputs": [],
   "source": [
    "# 상위 iqr 보다 큰 데이터 확인\n",
    "df[df['avg_ps'] > n]"
   ]
  },
  {
   "cell_type": "code",
   "execution_count": null,
   "id": "4b8eb08b",
   "metadata": {},
   "outputs": [],
   "source": [
    "# 최저기압보다 작은 평균기압 데이터 확인\n",
    "df[df['avg_ps'] < df['min_ps']]"
   ]
  },
  {
   "cell_type": "code",
   "execution_count": null,
   "id": "88a8e4c4",
   "metadata": {},
   "outputs": [],
   "source": [
    "# 최고기압보다 높은 평균기압 데이터 확인\n",
    "df[df['avg_ps'] > df['max_ps']]"
   ]
  },
  {
   "cell_type": "code",
   "execution_count": null,
   "id": "078b4138",
   "metadata": {},
   "outputs": [],
   "source": [
    "# 최소 기압\n",
    "# 최소/최대값 확인\n",
    "np.min(df['min_ps'])\n",
    "np.max(df['min_ps'])\n",
    "\n",
    "df[df['min_ps'] == 857.9]\n",
    "df[df['min_ps'] == 1037.6]"
   ]
  },
  {
   "cell_type": "code",
   "execution_count": null,
   "id": "337dd367",
   "metadata": {},
   "outputs": [],
   "source": [
    "# 그래프로 분포 확인\n",
    "sns.regplot('yyyymmdd', 'min_ps', data=df)"
   ]
  },
  {
   "cell_type": "code",
   "execution_count": null,
   "id": "6915a9c4",
   "metadata": {},
   "outputs": [],
   "source": [
    "sns.boxplot(y = 'min_ps', data = df)"
   ]
  },
  {
   "cell_type": "code",
   "execution_count": null,
   "id": "ace4a0c4",
   "metadata": {},
   "outputs": [],
   "source": [
    "# 1,2,3 분위수 및 하위/상위 1% 값 확인\n",
    "q01 = np.percentile(df['min_ps'],1)\n",
    "q1 = np.percentile(df['min_ps'],25)\n",
    "q2 = np.percentile(df['min_ps'], 50)\n",
    "q3 = np.percentile(df['min_ps'],75)\n",
    "q99 = np.percentile(df['min_ps'],99)\n",
    "iqr = q3-q1\n",
    "print(q01,q1,q2,q3,q99,iqr)"
   ]
  },
  {
   "cell_type": "code",
   "execution_count": null,
   "id": "37dc8973",
   "metadata": {},
   "outputs": [],
   "source": [
    "# 하위 iqr 확인 \n",
    "m = q1 - 1.5*iqr\n",
    "m\n",
    "\n",
    "# 상위 iqr 확인\n",
    "n = q3 + 1.5*iqr\n",
    "n"
   ]
  },
  {
   "cell_type": "code",
   "execution_count": null,
   "id": "40055591",
   "metadata": {},
   "outputs": [],
   "source": [
    "# 하위 iqr 보다 작은 데이터 확인\n",
    "df[df['min_ps'] < m]"
   ]
  },
  {
   "cell_type": "code",
   "execution_count": null,
   "id": "cdcf15cc",
   "metadata": {},
   "outputs": [],
   "source": [
    "# 상위 iqr 보다 큰 데이터 확인\n",
    "df[df['min_ps'] > n]"
   ]
  },
  {
   "cell_type": "code",
   "execution_count": null,
   "id": "6d5968cd",
   "metadata": {},
   "outputs": [],
   "source": [
    "# 최대 기압\n",
    "# 최소/최대값 확인\n",
    "np.min(df['max_ps'])\n",
    "np.max(df['max_ps'])\n",
    "\n",
    "df[df['max_ps'] == 991.2]\n",
    "df[df['max_ps'] == 1042.1]"
   ]
  },
  {
   "cell_type": "code",
   "execution_count": null,
   "id": "9fdf3625",
   "metadata": {},
   "outputs": [],
   "source": [
    "# 그래프로 분포 확인\n",
    "sns.regplot('yyyymmdd', 'max_ps', data=df)"
   ]
  },
  {
   "cell_type": "code",
   "execution_count": null,
   "id": "e169dd36",
   "metadata": {},
   "outputs": [],
   "source": [
    "sns.boxplot(y = 'max_ps', data = df)"
   ]
  },
  {
   "cell_type": "code",
   "execution_count": null,
   "id": "40f9cbf4",
   "metadata": {},
   "outputs": [],
   "source": [
    "# 1,2,3 분위수 및 하위/상위 1% 값 확인\n",
    "q01 = np.percentile(df['max_ps'],1)\n",
    "q1 = np.percentile(df['max_ps'],25)\n",
    "q2 = np.percentile(df['max_ps'], 50)\n",
    "q3 = np.percentile(df['max_ps'],75)\n",
    "q99 = np.percentile(df['max_ps'],99)\n",
    "iqr = q3-q1\n",
    "print(q01,q1,q2,q3,q99,iqr)"
   ]
  },
  {
   "cell_type": "code",
   "execution_count": null,
   "id": "d48b616d",
   "metadata": {},
   "outputs": [],
   "source": [
    "# 하위 iqr 확인 \n",
    "m = q1 - 1.5*iqr\n",
    "m\n",
    "\n",
    "# 상위 iqr 확인\n",
    "n = q3 + 1.5*iqr\n",
    "n"
   ]
  },
  {
   "cell_type": "code",
   "execution_count": null,
   "id": "5ace952b",
   "metadata": {},
   "outputs": [],
   "source": [
    "# 하위 iqr 보다 작은 데이터 확인\n",
    "df[df['max_ps'] < m]"
   ]
  },
  {
   "cell_type": "code",
   "execution_count": null,
   "id": "e359902d",
   "metadata": {},
   "outputs": [],
   "source": [
    "# 상위 iqr 보다 큰 데이터 확인\n",
    "df[df['max_ps'] > n]"
   ]
  },
  {
   "cell_type": "code",
   "execution_count": null,
   "id": "72532d01",
   "metadata": {},
   "outputs": [],
   "source": [
    "# 특정 관측소에서 하위 iqr 보다 작은 값을 가지는 데이터 확인 \n",
    "df[df['stn_id'] == 90][df['max_ps'] < m]"
   ]
  },
  {
   "cell_type": "code",
   "execution_count": null,
   "id": "ba4b427a",
   "metadata": {},
   "outputs": [],
   "source": [
    "# 특정 관측소에서의 데이터 확인 \n",
    "df.iloc[2069]"
   ]
  },
  {
   "cell_type": "code",
   "execution_count": null,
   "id": "781c68b4",
   "metadata": {},
   "outputs": [],
   "source": [
    "# 특정 관측소에서의 특정 값 대체(기상청 날씨누리 과거날씨와 비교)\n",
    "df.iloc[2069,4] = 992.149"
   ]
  },
  {
   "cell_type": "code",
   "execution_count": null,
   "id": "98fb4640",
   "metadata": {},
   "outputs": [],
   "source": [
    "df.to_csv('final_sfc_prsr.csv', encoding = 'utf-8-sig')"
   ]
  }
 ],
 "metadata": {
  "kernelspec": {
   "display_name": "Python 3 (ipykernel)",
   "language": "python",
   "name": "python3"
  },
  "language_info": {
   "codemirror_mode": {
    "name": "ipython",
    "version": 3
   },
   "file_extension": ".py",
   "mimetype": "text/x-python",
   "name": "python",
   "nbconvert_exporter": "python",
   "pygments_lexer": "ipython3",
   "version": "3.10.2"
  }
 },
 "nbformat": 4,
 "nbformat_minor": 5
}
