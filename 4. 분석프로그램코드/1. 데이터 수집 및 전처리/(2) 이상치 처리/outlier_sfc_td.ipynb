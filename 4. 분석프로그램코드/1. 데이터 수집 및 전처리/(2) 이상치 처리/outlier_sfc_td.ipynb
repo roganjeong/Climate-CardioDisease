{
 "cells": [
  {
   "cell_type": "code",
   "execution_count": null,
   "id": "acddd914",
   "metadata": {},
   "outputs": [],
   "source": [
    "import pandas as pd\n",
    "import numpy as np\n",
    "import matplotlib.pyplot as plt\n",
    "import seaborn as sns\n",
    "import os"
   ]
  },
  {
   "cell_type": "code",
   "execution_count": null,
   "id": "1e86e392",
   "metadata": {},
   "outputs": [],
   "source": [
    "path = '/Users/ochaeyeong/Downloads'\n",
    "os.chdir(path)\n",
    "os.getcwd()"
   ]
  },
  {
   "cell_type": "code",
   "execution_count": null,
   "id": "8145b0da",
   "metadata": {},
   "outputs": [],
   "source": [
    "df = pd.read_csv('final_sfc_td.csv')\n",
    "df.head()"
   ]
  },
  {
   "cell_type": "code",
   "execution_count": null,
   "id": "4ac1f429",
   "metadata": {},
   "outputs": [],
   "source": [
    "# 평균 이슬점온도 \n",
    "# 최소/최대값 확인\n",
    "np.min(df['avg_td'])\n",
    "np.max(df['avg_td'])\n",
    "\n",
    "df[df['avg_td'] == -34.1]\n",
    "df[df['avg_td'] == 28.2]"
   ]
  },
  {
   "cell_type": "code",
   "execution_count": null,
   "id": "5a97dd32",
   "metadata": {},
   "outputs": [],
   "source": [
    "# 그래프로 분포 확인\n",
    "sns.regplot('yyyymmdd', 'avg_td', data=df)"
   ]
  },
  {
   "cell_type": "code",
   "execution_count": null,
   "id": "3a501157",
   "metadata": {},
   "outputs": [],
   "source": [
    "sns.boxplot(y = 'avg_td', data = df)"
   ]
  },
  {
   "cell_type": "code",
   "execution_count": null,
   "id": "25939059",
   "metadata": {},
   "outputs": [],
   "source": [
    "# 1,2,3 분위수 및 하위/상위 1% 값 확인\n",
    "q01 = np.percentile(df['avg_td'],1)\n",
    "q1 = np.percentile(df['avg_td'],25)\n",
    "q2 = np.percentile(df['avg_td'], 50)\n",
    "q3 = np.percentile(df['avg_td'],75)\n",
    "q99 = np.percentile(df['avg_td'],99)\n",
    "iqr = q3-q1\n",
    "print(q01,q1,q2,q3,q99,iqr)"
   ]
  },
  {
   "cell_type": "code",
   "execution_count": null,
   "id": "f5e24765",
   "metadata": {},
   "outputs": [],
   "source": [
    "# 하위 iqr 확인 \n",
    "m = q1 - 1.5*iqr\n",
    "m\n",
    "\n",
    "# 상위 iqr 확인\n",
    "n = q3 + 1.5*iqr\n",
    "n"
   ]
  },
  {
   "cell_type": "code",
   "execution_count": null,
   "id": "677d4447",
   "metadata": {},
   "outputs": [],
   "source": [
    "# 하위 iqr 보다 낮은 값 가지는 데이터 확인\n",
    "df[df['avg_td'] < m]"
   ]
  },
  {
   "cell_type": "code",
   "execution_count": null,
   "id": "bd47ec76",
   "metadata": {},
   "outputs": [],
   "source": [
    "# 최저 이슬점온도 보다 낮은 값을 가지는 평균 이슬점온도 데이터 확인 \n",
    "df[df['avg_td'] < df['min_td']]"
   ]
  },
  {
   "cell_type": "code",
   "execution_count": null,
   "id": "3abae21d",
   "metadata": {},
   "outputs": [],
   "source": [
    "# 최고 이슬점온도 보다 높은 값을 가지는 평균 이슬점온도 데이터 확인 \n",
    "df[df['avg_td'] > df['max_td']]"
   ]
  },
  {
   "cell_type": "code",
   "execution_count": null,
   "id": "857c8556",
   "metadata": {},
   "outputs": [],
   "source": [
    "# 최저 이슬점온도 \n",
    "# 최소/최대값 확인\n",
    "np.min(df['min_td'])\n",
    "np.max(df['min_td'])\n",
    "\n",
    "df[df['min_td'] == -46.7]\n",
    "df[df['min_td'] == 27.0]"
   ]
  },
  {
   "cell_type": "code",
   "execution_count": null,
   "id": "5382e0ea",
   "metadata": {},
   "outputs": [],
   "source": [
    "# 그래프로 분포 확인\n",
    "sns.regplot('yyyymmdd', 'min_td', data=df)"
   ]
  },
  {
   "cell_type": "code",
   "execution_count": null,
   "id": "e5106784",
   "metadata": {},
   "outputs": [],
   "source": [
    "sns.boxplot(y = 'min_td', data = df)"
   ]
  },
  {
   "cell_type": "code",
   "execution_count": null,
   "id": "c3da5b06",
   "metadata": {},
   "outputs": [],
   "source": [
    "# 1,2,3 분위수 및 하위/상위 1% 값 확인\n",
    "q01 = np.percentile(df['min_td'],1)\n",
    "q1 = np.percentile(df['min_td'],25)\n",
    "q2 = np.percentile(df['min_td'], 50)\n",
    "q3 = np.percentile(df['min_td'],75)\n",
    "q99 = np.percentile(df['min_td'],99)\n",
    "iqr = q3-q1\n",
    "print(q01,q1,q2,q3,q99,iqr)"
   ]
  },
  {
   "cell_type": "code",
   "execution_count": null,
   "id": "ce110b2c",
   "metadata": {},
   "outputs": [],
   "source": [
    "# 하위 iqr 확인 \n",
    "m = q1 - 1.5*iqr\n",
    "m\n",
    "\n",
    "# 상위 iqr 확인\n",
    "n = q3 + 1.5*iqr\n",
    "n"
   ]
  },
  {
   "cell_type": "code",
   "execution_count": null,
   "id": "fcdc92fd",
   "metadata": {},
   "outputs": [],
   "source": [
    "# 하위 iqr 보다 낮은 값 가지는 데이터 확인\n",
    "df[df['min_td'] < m]"
   ]
  },
  {
   "cell_type": "code",
   "execution_count": null,
   "id": "a9a33a35",
   "metadata": {},
   "outputs": [],
   "source": [
    "# 최고 이슬점온도 \n",
    "# 최소/최대값 확인\n",
    "np.min(df['max_td'])\n",
    "np.max(df['max_td'])\n",
    "\n",
    "df[df['max_td'] == -28.8]\n",
    "df[df['max_td'] == 31.1]"
   ]
  },
  {
   "cell_type": "code",
   "execution_count": null,
   "id": "5e88e8b8",
   "metadata": {},
   "outputs": [],
   "source": [
    "# 그래프로 분포 확인\n",
    "sns.regplot('yyyymmdd', 'max_td', data=df)"
   ]
  },
  {
   "cell_type": "code",
   "execution_count": null,
   "id": "08a03914",
   "metadata": {},
   "outputs": [],
   "source": [
    "sns.boxplot(y = 'max_td', data = df)"
   ]
  },
  {
   "cell_type": "code",
   "execution_count": null,
   "id": "c54bf9b4",
   "metadata": {},
   "outputs": [],
   "source": [
    "# 1,2,3 분위수 및 하위/상위 1% 값 확인\n",
    "q01 = np.percentile(df['max_td'],1)\n",
    "q1 = np.percentile(df['max_td'],25)\n",
    "q2 = np.percentile(df['max_td'], 50)\n",
    "q3 = np.percentile(df['max_td'],75)\n",
    "q99 = np.percentile(df['max_td'],99)\n",
    "iqr = q3-q1\n",
    "print(q01,q1,q2,q3,q99,iqr)"
   ]
  },
  {
   "cell_type": "code",
   "execution_count": null,
   "id": "624f710e",
   "metadata": {},
   "outputs": [],
   "source": [
    "# 하위 iqr 확인 \n",
    "m = q1 - 1.5*iqr\n",
    "m\n",
    "\n",
    "# 상위 iqr 확인\n",
    "n = q3 + 1.5*iqr\n",
    "n"
   ]
  },
  {
   "cell_type": "code",
   "execution_count": null,
   "id": "4f6fbb43",
   "metadata": {},
   "outputs": [],
   "source": [
    "# 하위 iqr 보다 낮은 값 가지는 데이터 확인\n",
    "df[df['max_td'] < m]"
   ]
  },
  {
   "cell_type": "code",
   "execution_count": null,
   "id": "57556075",
   "metadata": {},
   "outputs": [],
   "source": [
    "# 관측소 번호 216에서 -25 이하의 값을 가지는 데이터 확인\n",
    "df[df['stn_id'] == 216][df['max_td'] < -25]"
   ]
  },
  {
   "cell_type": "code",
   "execution_count": null,
   "id": "82610faf",
   "metadata": {},
   "outputs": [],
   "source": [
    "# 특정 관측소에서의 데이터 확인\n",
    "df.iloc[61850]"
   ]
  },
  {
   "cell_type": "code",
   "execution_count": null,
   "id": "50a29cc7",
   "metadata": {},
   "outputs": [],
   "source": [
    "# 기상청 날씨누리 과거 기상 데이터와 비교해 차이가 큰 데이터의 값 대체 \n",
    "df.iloc[61852,3] = 7.37\n",
    "df.iloc[61850,4] = 10.52\n",
    "df.iloc[61851,4] = 10.52\n",
    "df.iloc[61853,4] = 10.52\n",
    "df.iloc[61850,6] = 1.09\n",
    "df.iloc[61851,6] = 1.09\n",
    "df.iloc[61852,6] = 1.09\n",
    "df.iloc[61853,6] = 1.09\n",
    "df.iloc[61822,6] = -19.69\n",
    "df.iloc[61822,3] = -10.9\n",
    "df.iloc[1822,3] = -36.55"
   ]
  },
  {
   "cell_type": "code",
   "execution_count": null,
   "id": "3caa4db5",
   "metadata": {},
   "outputs": [],
   "source": [
    "# 특정 관측소에서의 특정 기간 데이터 확인 \n",
    "df.iloc[61849:61854]"
   ]
  },
  {
   "cell_type": "code",
   "execution_count": null,
   "id": "b9447098",
   "metadata": {},
   "outputs": [],
   "source": [
    "df.to_csv('final_sfc_td_0712.csv', encoding = 'utf-8-sig')"
   ]
  }
 ],
 "metadata": {
  "kernelspec": {
   "display_name": "Python 3 (ipykernel)",
   "language": "python",
   "name": "python3"
  },
  "language_info": {
   "codemirror_mode": {
    "name": "ipython",
    "version": 3
   },
   "file_extension": ".py",
   "mimetype": "text/x-python",
   "name": "python",
   "nbconvert_exporter": "python",
   "pygments_lexer": "ipython3",
   "version": "3.10.2"
  }
 },
 "nbformat": 4,
 "nbformat_minor": 5
}
