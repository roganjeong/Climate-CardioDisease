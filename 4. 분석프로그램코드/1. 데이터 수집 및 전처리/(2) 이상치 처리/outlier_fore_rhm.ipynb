{
 "cells": [
  {
   "cell_type": "code",
   "execution_count": null,
   "id": "081c06ac",
   "metadata": {},
   "outputs": [],
   "source": [
    "import pandas as pd\n",
    "import numpy as np\n",
    "import matplotlib.pyplot as plt\n",
    "import seaborn as sns\n",
    "import os"
   ]
  },
  {
   "cell_type": "code",
   "execution_count": null,
   "id": "bdb059d6",
   "metadata": {},
   "outputs": [],
   "source": [
    "path = '/Users/ochaeyeong/Downloads'\n",
    "os.chdir(path)\n",
    "os.getcwd()"
   ]
  },
  {
   "cell_type": "code",
   "execution_count": null,
   "id": "1b7cb589",
   "metadata": {},
   "outputs": [],
   "source": [
    "df = pd.read_csv('final_fore_rhm_0803_anr.csv')\n",
    "df.head()"
   ]
  },
  {
   "cell_type": "code",
   "execution_count": null,
   "id": "4ed871b5",
   "metadata": {},
   "outputs": [],
   "source": [
    "# 최소/최대값 확인\n",
    "np.min(df['value'])\n",
    "np.max(df['value'])\n",
    "\n",
    "df[df['value'] == 11.4]\n",
    "df[df['value'] == 99.0]"
   ]
  },
  {
   "cell_type": "code",
   "execution_count": null,
   "id": "6db5fa63",
   "metadata": {},
   "outputs": [],
   "source": [
    "# 그래프로 분포 확인\n",
    "sns.regplot('yyyymmdd', 'value', data=df)"
   ]
  },
  {
   "cell_type": "code",
   "execution_count": null,
   "id": "a7705ebc",
   "metadata": {},
   "outputs": [],
   "source": [
    "sns.boxplot(y = 'value', data = df)"
   ]
  },
  {
   "cell_type": "code",
   "execution_count": null,
   "id": "33130c47",
   "metadata": {},
   "outputs": [],
   "source": [
    "# 1,2,3 분위수 및 하위/상위 1% 값 확인\n",
    "q01 = np.percentile(df['value'],1)\n",
    "q1 = np.percentile(df['value'],25)\n",
    "q2 = np.percentile(df['value'], 50)\n",
    "q3 = np.percentile(df['value'],75)\n",
    "q99 = np.percentile(df['value'],99)\n",
    "iqr = q3-q1\n",
    "print(q01,q1,q2,q3,q99,iqr)"
   ]
  },
  {
   "cell_type": "code",
   "execution_count": null,
   "id": "36ced957",
   "metadata": {},
   "outputs": [],
   "source": [
    "# 하위 iqr 값 확인\n",
    "m = q1 - 1.5*iqr\n",
    "m\n",
    "\n",
    "# 상위 iqr 값 확인\n",
    "n = q3 + 1.5*iqr\n",
    "n"
   ]
  },
  {
   "cell_type": "code",
   "execution_count": null,
   "id": "34a68ea8",
   "metadata": {},
   "outputs": [],
   "source": [
    "# 하위 1% 값보다 작은 데이터 확인\n",
    "df[df['value'] < q01]"
   ]
  },
  {
   "cell_type": "code",
   "execution_count": null,
   "id": "f73b4fbd",
   "metadata": {},
   "outputs": [],
   "source": [
    "# 하위 iqr 값보다 작은 데이터들의 관측소의 개수 확인\n",
    "len(df[df['value'] < m]['address'].unique())"
   ]
  },
  {
   "cell_type": "code",
   "execution_count": null,
   "id": "d8ffe6b4",
   "metadata": {},
   "outputs": [],
   "source": [
    "# 20보다 작은 데이터들 확인 \n",
    "df[df['value'] < 20]"
   ]
  },
  {
   "cell_type": "code",
   "execution_count": null,
   "id": "f47d4e19",
   "metadata": {},
   "outputs": [],
   "source": [
    "# 상/하위 값들 1% 윈저라이징 \n",
    "for i in df[df['value']]:\n",
    "    q01 = np.percentile(df[i], 1)\n",
    "    q99 = np.percentile(df[i], 99)\n",
    "    df.loc[df[i] > q99, i] = q99\n",
    "    df.loc[df[i] < q01, i] = q01"
   ]
  },
  {
   "cell_type": "code",
   "execution_count": null,
   "id": "b453eee3",
   "metadata": {},
   "outputs": [],
   "source": [
    "df.to_csv('final_fore_rhm_0803.csv', encoding = 'utf-8-sig')"
   ]
  }
 ],
 "metadata": {
  "kernelspec": {
   "display_name": "Python 3 (ipykernel)",
   "language": "python",
   "name": "python3"
  },
  "language_info": {
   "codemirror_mode": {
    "name": "ipython",
    "version": 3
   },
   "file_extension": ".py",
   "mimetype": "text/x-python",
   "name": "python",
   "nbconvert_exporter": "python",
   "pygments_lexer": "ipython3",
   "version": "3.10.2"
  }
 },
 "nbformat": 4,
 "nbformat_minor": 5
}
