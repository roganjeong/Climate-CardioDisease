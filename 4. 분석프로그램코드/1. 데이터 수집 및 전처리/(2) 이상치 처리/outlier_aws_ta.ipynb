{
 "cells": [
  {
   "cell_type": "code",
   "execution_count": null,
   "id": "b01fe4e0",
   "metadata": {},
   "outputs": [],
   "source": [
    "import pandas as pd\n",
    "import numpy as np\n",
    "import matplotlib.pyplot as plt\n",
    "import seaborn as sns\n",
    "import os"
   ]
  },
  {
   "cell_type": "code",
   "execution_count": null,
   "id": "f0af2f2b",
   "metadata": {},
   "outputs": [],
   "source": [
    "path = '/Users/ochaeyeong/Downloads'\n",
    "os.chdir(path)\n",
    "os.getcwd()"
   ]
  },
  {
   "cell_type": "code",
   "execution_count": null,
   "id": "b6186e21",
   "metadata": {},
   "outputs": [],
   "source": [
    "df = pd.read_csv('final_aws_ta.csv')\n",
    "df.head()"
   ]
  },
  {
   "cell_type": "code",
   "execution_count": null,
   "id": "5ee1a939",
   "metadata": {},
   "outputs": [],
   "source": [
    "# 아침 최저기온 \n",
    "# 최소/최대값 확인\n",
    "np.min(df['min_mrng_ta'])\n",
    "np.max(df['min_mrng_ta'])\n",
    "\n",
    "df[df['min_mrng_ta'] == -33.9]\n",
    "df[df['min_mrng_ta'] == 34.1]"
   ]
  },
  {
   "cell_type": "code",
   "execution_count": null,
   "id": "e5107528",
   "metadata": {},
   "outputs": [],
   "source": [
    "# 그래프로 분포 확인\n",
    "sns.regplot('yyyymmdd', 'min_mrng_ta', data=df)"
   ]
  },
  {
   "cell_type": "code",
   "execution_count": null,
   "id": "bb2129ff",
   "metadata": {},
   "outputs": [],
   "source": [
    "sns.boxplot(y = 'min_mrng_ta', data = df)"
   ]
  },
  {
   "cell_type": "code",
   "execution_count": null,
   "id": "1d663192",
   "metadata": {},
   "outputs": [],
   "source": [
    "# 1,2,3,4분위수 및 하위/상위 1% 값 확인\n",
    "q01 = np.percentile(df['min_mrng_ta'],1)\n",
    "q1 = np.percentile(df['min_mrng_ta'],25)\n",
    "q2 = np.percentile(df['min_mrng_ta'], 50)\n",
    "q3 = np.percentile(df['min_mrng_ta'],75)\n",
    "q99 = np.percentile(df['min_mrng_ta'],99)\n",
    "iqr = q3-q1\n",
    "print(q01,q1,q2,q3,q99,iqr)"
   ]
  },
  {
   "cell_type": "code",
   "execution_count": null,
   "id": "f176a9dd",
   "metadata": {},
   "outputs": [],
   "source": [
    "# 하위 iqr 확인 \n",
    "m = q1 - 1.5*iqr\n",
    "m"
   ]
  },
  {
   "cell_type": "code",
   "execution_count": null,
   "id": "ff31d374",
   "metadata": {},
   "outputs": [],
   "source": [
    "# 최저 기온보다 낮은 값 / 최저 기온과 다른 아침 최저 기온 값 개수 확인 \n",
    "len(df[df['min_mrng_ta'] < df['min_ta']])\n",
    "len(df[df['min_mrng_ta'] != df['min_ta']])"
   ]
  },
  {
   "cell_type": "code",
   "execution_count": null,
   "id": "1c570b7d",
   "metadata": {},
   "outputs": [],
   "source": [
    "# 낮 최고기온\n",
    "# 최소/최대값 확인 \n",
    "np.min(df['max_dytm_ta'])\n",
    "np.max(df['max_dytm_ta'])\n",
    "\n",
    "df[df['max_dytm_ta'] == 41.3]\n",
    "df[df['max_dytm_ta'] == 40]"
   ]
  },
  {
   "cell_type": "code",
   "execution_count": null,
   "id": "642a19e5",
   "metadata": {},
   "outputs": [],
   "source": [
    "# 그래프로 분포 확인\n",
    "sns.boxplot(y='max_dytm_ta', data=df)"
   ]
  },
  {
   "cell_type": "code",
   "execution_count": null,
   "id": "a4e408c6",
   "metadata": {},
   "outputs": [],
   "source": [
    "# 1,2,3,4분위수 및 하위/상위 1% 값 확인\n",
    "q01 = np.percentile(df['max_dytm_ta'], 1)\n",
    "q1 = np.percentile(df['max_dytm_ta'], 25)\n",
    "q2 = np.percentile(df['max_dytm_ta'], 50)\n",
    "q3 = np.percentile(df['max_dytm_ta'], 75)\n",
    "q99 = np.percentile(df['max_dytm_ta'], 99)\n",
    "iqr = q3 - q1\n",
    "print(q01, q1, q2, q3, q99, iqr)"
   ]
  },
  {
   "cell_type": "code",
   "execution_count": null,
   "id": "554aefec",
   "metadata": {},
   "outputs": [],
   "source": [
    "# 하위 iqr 확인 \n",
    "m = q1 - 1.5*iqr\n",
    "m"
   ]
  },
  {
   "cell_type": "code",
   "execution_count": null,
   "id": "4334dffd",
   "metadata": {},
   "outputs": [],
   "source": [
    "# 최고 기온과 다른 낮 최고 기온 값 확인 \n",
    "df[df['max_dytm_ta'] != df['max_ta']]"
   ]
  },
  {
   "cell_type": "code",
   "execution_count": null,
   "id": "9100f841",
   "metadata": {},
   "outputs": [],
   "source": [
    "# 밤 최저기온\n",
    "# 최소/ 최댓값 확인\n",
    "np.min(df['min_nght_ta'])\n",
    "np.max(df['min_nght_ta'])\n",
    "\n",
    "df[df['min_nght_ta'] == 34.1]"
   ]
  },
  {
   "cell_type": "code",
   "execution_count": null,
   "id": "8f274c12",
   "metadata": {},
   "outputs": [],
   "source": [
    "# 1,2,3,4분위수 및 하위/상위 1% 값 확인\n",
    "q01 = np.percentile(df['min_nght_ta'], 1)\n",
    "q1 = np.percentile(df['min_nght_ta'], 25)\n",
    "q2 = np.percentile(df['min_nght_ta'], 50)\n",
    "q3 = np.percentile(df['min_nght_ta'], 75)\n",
    "q99 = np.percentile(df['min_nght_ta'], 99)\n",
    "iqr = q3 - q1\n",
    "print(q01, q1, q2, q3, q99, iqr)"
   ]
  },
  {
   "cell_type": "code",
   "execution_count": null,
   "id": "45543b66",
   "metadata": {},
   "outputs": [],
   "source": [
    "# 하위 iqr 확인 \n",
    "m = q1 - 1.5*iqr\n",
    "m"
   ]
  },
  {
   "cell_type": "code",
   "execution_count": null,
   "id": "f22ffc08",
   "metadata": {},
   "outputs": [],
   "source": [
    "# 영하 28도 보다 낮은 밤 최저기온 값 개수 확인 \n",
    "len(df[df['min_nght_ta'] < -28])"
   ]
  },
  {
   "cell_type": "code",
   "execution_count": null,
   "id": "e2d58555",
   "metadata": {},
   "outputs": [],
   "source": [
    "# 특정 관측소에서의 값 확인 \n",
    "df.iloc[1402302]"
   ]
  },
  {
   "cell_type": "code",
   "execution_count": null,
   "id": "0d418599",
   "metadata": {},
   "outputs": [],
   "source": [
    "# 일반적인 범주에서 벗어나는 값 (ex. 여름 최저 기온 영하 30도)\n",
    "# 기상개방포털 관측값과 비교해 대체\n",
    "df.iloc[853734,3] = 3.9\n",
    "df.iloc[853734,4] = 12.9\n",
    "df.iloc[853734,5] = -1.9\n",
    "df.iloc[853734,6] = -1.9\n",
    "df.iloc[487881,4] = 24.6\n",
    "df.iloc[860310,5] = -0.9\n",
    "df.iloc[860310,3] = 4.3\n",
    "df.iloc[860310,4] = 9.8\n",
    "df.iloc[860310,6] = -0.9\n",
    "df.iloc[860310,7] = 9.8\n",
    "df.iloc[860310,8] = -0.9\n",
    "df.iloc[1258249,6] = -6.3\n",
    "df.iloc[860309,5] = -1.0\n",
    "df.iloc[860309,8] = -1.0\n",
    "df.iloc[1346475,6] = 22.5\n",
    "df.iloc[487893,4] = 25.0\n",
    "df.iloc[487893,7] = 25.0"
   ]
  },
  {
   "cell_type": "code",
   "execution_count": null,
   "id": "fd6cfe18",
   "metadata": {},
   "outputs": [],
   "source": [
    "df.to_csv('final_aws_ta_0713.csv', encoding = 'utf-8-sig')"
   ]
  }
 ],
 "metadata": {
  "kernelspec": {
   "display_name": "Python 3 (ipykernel)",
   "language": "python",
   "name": "python3"
  },
  "language_info": {
   "codemirror_mode": {
    "name": "ipython",
    "version": 3
   },
   "file_extension": ".py",
   "mimetype": "text/x-python",
   "name": "python",
   "nbconvert_exporter": "python",
   "pygments_lexer": "ipython3",
   "version": "3.10.2"
  }
 },
 "nbformat": 4,
 "nbformat_minor": 5
}
