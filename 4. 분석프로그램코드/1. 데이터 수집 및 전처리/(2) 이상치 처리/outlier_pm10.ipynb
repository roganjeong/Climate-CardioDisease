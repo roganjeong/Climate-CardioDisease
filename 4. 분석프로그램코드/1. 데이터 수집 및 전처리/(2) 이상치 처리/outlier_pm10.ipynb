{
 "cells": [
  {
   "cell_type": "code",
   "execution_count": null,
   "id": "71782b53",
   "metadata": {},
   "outputs": [],
   "source": [
    "import pandas as pd\n",
    "import numpy as np\n",
    "import matplotlib.pyplot as plt\n",
    "import seaborn as sns\n",
    "import os"
   ]
  },
  {
   "cell_type": "code",
   "execution_count": null,
   "id": "1e8a2348",
   "metadata": {},
   "outputs": [],
   "source": [
    "path = '/Users/ochaeyeong/Downloads'\n",
    "os.chdir(path)\n",
    "os.getcwd()"
   ]
  },
  {
   "cell_type": "code",
   "execution_count": null,
   "id": "abb987c3",
   "metadata": {},
   "outputs": [],
   "source": [
    "df = pd.read_csv('final_ydst_pm10_ver1_0712.csv') \n",
    "df.head()"
   ]
  },
  {
   "cell_type": "code",
   "execution_count": null,
   "id": "8d8862e8",
   "metadata": {},
   "outputs": [],
   "source": [
    "# pm10\n",
    "# 최소/최대값 확인\n",
    "np.min(df['pm10'])\n",
    "np.max(df['pm10'])\n",
    "\n",
    "df[df['pm10'] == 4.24537037037037]\n",
    "df[df['pm10'] == 169.859316]"
   ]
  },
  {
   "cell_type": "code",
   "execution_count": null,
   "id": "8bf83539",
   "metadata": {},
   "outputs": [],
   "source": [
    "# 그래프로 분포 확인\n",
    "sns.regplot('yyyymmdd', 'pm10', data=df)"
   ]
  },
  {
   "cell_type": "code",
   "execution_count": null,
   "id": "2b5b39cd",
   "metadata": {},
   "outputs": [],
   "source": [
    "sns.boxplot(y='pm10', data=df)"
   ]
  },
  {
   "cell_type": "code",
   "execution_count": null,
   "id": "f5417e0d",
   "metadata": {},
   "outputs": [],
   "source": [
    "# 1,2,3 분위수 및 하위/상위 1% 값 확인\n",
    "q01 = np.percentile(df['pm10'],1)\n",
    "q1 = np.percentile(df['pm10'],25)\n",
    "q2 = np.percentile(df['pm10'], 50)\n",
    "q3 = np.percentile(df['pm10'],75)\n",
    "q99 = np.percentile(df['pm10'],99)\n",
    "iqr = q3-q1\n",
    "print(q01,q1,q2,q3,q99,iqr)"
   ]
  },
  {
   "cell_type": "code",
   "execution_count": null,
   "id": "7315106b",
   "metadata": {},
   "outputs": [],
   "source": [
    "# 하위 iqr 확인 \n",
    "m = q1 - 1.5*iqr\n",
    "m\n",
    "\n",
    "# 상위 iqr 확인\n",
    "n = q3 + 1.5*iqr\n",
    "n"
   ]
  },
  {
   "cell_type": "code",
   "execution_count": null,
   "id": "1027178e",
   "metadata": {},
   "outputs": [],
   "source": [
    "# 농도가 100 이상인 데이터 확인 \n",
    "df[df['pm10'] > 100]"
   ]
  },
  {
   "cell_type": "code",
   "execution_count": null,
   "id": "15e72cd2",
   "metadata": {},
   "outputs": [],
   "source": [
    "# 상/하위 1% 값 윈저라이징 \n",
    "for i in df[df['pm10']]:\n",
    "    q01 = np.percentile(df[i], 1)\n",
    "    q99 = np.percentile(df[i], 99)\n",
    "    df.loc[df[i] > q99, i] = q99\n",
    "    df.loc[df[i] < q01, i] = q01"
   ]
  },
  {
   "cell_type": "code",
   "execution_count": null,
   "id": "af9dc05d",
   "metadata": {},
   "outputs": [],
   "source": [
    "df.to_csv('final_pm10.csv', encoding = 'utf-8-sig')"
   ]
  }
 ],
 "metadata": {
  "kernelspec": {
   "display_name": "Python 3 (ipykernel)",
   "language": "python",
   "name": "python3"
  },
  "language_info": {
   "codemirror_mode": {
    "name": "ipython",
    "version": 3
   },
   "file_extension": ".py",
   "mimetype": "text/x-python",
   "name": "python",
   "nbconvert_exporter": "python",
   "pygments_lexer": "ipython3",
   "version": "3.10.2"
  }
 },
 "nbformat": 4,
 "nbformat_minor": 5
}
