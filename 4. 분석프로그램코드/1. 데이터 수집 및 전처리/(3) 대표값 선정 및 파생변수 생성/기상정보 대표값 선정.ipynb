{
 "cells": [
  {
   "cell_type": "markdown",
   "id": "b192b54d-3638-4534-aec6-eda5fb940731",
   "metadata": {},
   "source": [
    "# 1차 전처리 과정을 끝낸 데이터들을 불러오는 과정"
   ]
  },
  {
   "cell_type": "markdown",
   "id": "af1e5754-e98c-4ec2-abfe-06ecd0ee428b",
   "metadata": {},
   "source": [
    "## 모델학습용 데이터 병합"
   ]
  },
  {
   "cell_type": "code",
   "execution_count": null,
   "id": "03ae9dfc-3fa1-4daf-ac0e-50f51b0e02f8",
   "metadata": {},
   "outputs": [],
   "source": [
    "import pandas as pd\n",
    "import numpy as np"
   ]
  },
  {
   "cell_type": "code",
   "execution_count": null,
   "id": "7be4248a-0f02-43c6-91bb-927d4d994298",
   "metadata": {},
   "outputs": [],
   "source": [
    "hospital = pd.read_csv('/home/jupyter/climate/data/back_hospital.csv', header = 0)\n",
    "sfc_prsr = pd.read_csv('/home/jupyter/climate/data/final_sfc_prsr_0723.csv', header = 0)\n",
    "sfc_td = pd.read_csv('/home/jupyter/climate/data/final_sfc_td_0723.csv', header = 0)\n",
    "sfc_ta = pd.read_csv('/home/jupyter/climate/data/final_sfc_ta_0723.csv', header = 0)\n",
    "ydst = pd.read_csv('/home/jupyter/climate/data/final_ydst_pm10_ver1_0723.csv', header = 0)\n",
    "aws_ta = pd.read_csv('/home/jupyter/climate/data/final_aws_ta_0713.csv', header = 0)\n",
    "fore_rhm = pd.read_csv('/home/jupyter/climate/data/final_fore_rhm_0801_2313.csv', header = 0)"
   ]
  },
  {
   "cell_type": "markdown",
   "id": "918ff083-0f30-416b-9cda-016f53e1a66b",
   "metadata": {},
   "source": [
    "### 병합의 용이성을 위해 변수명을 바꿔주는 과정"
   ]
  },
  {
   "cell_type": "code",
   "execution_count": null,
   "id": "fe53f1a0-6066-41ab-8380-84ad34681ae5",
   "metadata": {},
   "outputs": [],
   "source": [
    "print(hospital.columns)\n",
    "print(sfc_prsr.columns)\n",
    "print(sfc_td.columns)\n",
    "print(sfc_ta.columns)\n",
    "print(ydst.columns)\n",
    "print(aws_ta.columns)\n",
    "print(fore_rhm.columns)"
   ]
  },
  {
   "cell_type": "code",
   "execution_count": null,
   "id": "f99acf65-d7e1-4237-bdd7-1a1c7c7155af",
   "metadata": {},
   "outputs": [],
   "source": [
    "hospital = hospital.rename(columns={'back_hospital.area' : 'add'})\n",
    "hospital = hospital.rename(columns={'back_hospital.yyyymmdd' : 'yyyymmdd'})\n",
    "hospital = hospital.rename(columns={'back_hospital.sex' : 'sex'})\n",
    "hospital = hospital.rename(columns={'back_hospital.frequency' : 'frequency'})\n",
    "ydst = ydst.rename(columns={'area' : 'add'})"
   ]
  },
  {
   "cell_type": "markdown",
   "id": "b2646d06-2505-4b94-948b-1b38c442d9ac",
   "metadata": {},
   "source": [
    "### 시도별로 빠진 곳이 있는지 확인하기"
   ]
  },
  {
   "cell_type": "code",
   "execution_count": null,
   "id": "c0233ad6-731f-437e-96ab-56460cc26327",
   "metadata": {
    "tags": []
   },
   "outputs": [],
   "source": [
    "print(hospital['add'].unique())\n",
    "print(sfc_prsr['add'].unique())\n",
    "print(sfc_td['add'].unique())\n",
    "print(sfc_ta['add'].unique())\n",
    "print(ydst['add'].unique())\n",
    "print(aws_ta['add'].unique())\n",
    "print(fore_rhm['add'].unique())"
   ]
  },
  {
   "cell_type": "markdown",
   "id": "3c8a5165-ed6c-4291-bdee-7ee449f2b727",
   "metadata": {},
   "source": [
    "### 파일명에 sfc가 들어있는 데이터들은 세종시 데이터가 없기에 세종시를 둘러싼 각 데이터의 대전, 충남, 충북 평균으로 보간한다.  \n",
    "### 충남, 충북, 대전에 속한 관측소들의 날짜별 평균을 구하여 각 데이터프레임의 행에 추가하는 코드이다."
   ]
  },
  {
   "cell_type": "code",
   "execution_count": null,
   "id": "3a4cc4be-cd84-4912-9095-9a2cb68b1e38",
   "metadata": {},
   "outputs": [],
   "source": [
    "prsr_sejong = sfc_prsr[sfc_prsr['add'].isin(['충남', '충북', '대전'])].groupby(['yyyymmdd'], as_index=False).mean().assign(add='세종')\n",
    "sfc_prsr = sfc_prsr.append(prsr_sejong)\n",
    "\n",
    "ta_sejong = sfc_ta[sfc_ta['add'].isin(['충남', '충북', '대전'])].groupby(['yyyymmdd'], as_index=False).mean().assign(add='세종')\n",
    "sfc_ta = sfc_ta.append(ta_sejong)\n",
    "\n",
    "td_sejong = sfc_td[sfc_td['add'].isin(['충남', '충북', '대전'])].groupby(['yyyymmdd'], as_index=False).mean().assign(add='세종')\n",
    "sfc_td = sfc_td.append(td_sejong)"
   ]
  },
  {
   "cell_type": "markdown",
   "id": "9dbd72ec-d127-475f-89da-71818b04e476",
   "metadata": {},
   "source": [
    "### 각 변수에 따라 시도별 데이터가 필요하기 때문에 각 데이터프레임에서 날짜와 시도가 동일한 행들끼리 평균을 산출하였다. "
   ]
  },
  {
   "cell_type": "code",
   "execution_count": null,
   "id": "4fdaa28c-1ae0-4485-9971-e1964e9387f6",
   "metadata": {},
   "outputs": [],
   "source": [
    "sfc_prsr_grouped = sfc_prsr.groupby(['yyyymmdd','add']).mean()\n",
    "sfc_ta_grouped = sfc_ta.groupby(['yyyymmdd','add']).mean()\n",
    "sfc_td_grouped = sfc_td.groupby(['yyyymmdd','add']).mean()\n",
    "ydst_grouped = ydst.groupby(['yyyymmdd','add']).mean()\n",
    "aws_ta_grouped = aws_ta.groupby(['yyyymmdd','add']).mean()\n",
    "fore_rhm_grouped = fore_rhm.groupby(['yyyymmdd','add']).mean()"
   ]
  },
  {
   "cell_type": "markdown",
   "id": "37f74c11-9152-4620-ae4a-681fd53cbfb8",
   "metadata": {},
   "source": [
    "### 모든 데이터프레임이 동일한 행수를 가지고 있는 것을 확인하고, 모든 데이터프레임을 날짜와 시도에 따라 병합하는 과정을 진행한다. "
   ]
  },
  {
   "cell_type": "code",
   "execution_count": null,
   "id": "0b1da777-900c-48c7-a4c0-bf23e1f8a2d6",
   "metadata": {},
   "outputs": [],
   "source": [
    "merged_1 = pd.merge(hospital, sfc_prsr_grouped, on = ['add','yyyymmdd'])\n",
    "merged_2 = pd.merge(merged_1, sfc_ta_grouped, on = ['add','yyyymmdd'])\n",
    "merged_3 = pd.merge(merged_2, sfc_ta_grouped, on = ['add','yyyymmdd'])\n",
    "merged_4 = pd.merge(merged_3, sfc_td_grouped, on = ['add','yyyymmdd'])\n",
    "merged_5 = pd.merge(merged_4, ydst_grouped, on = ['add','yyyymmdd'])\n",
    "merged_6 = pd.merge(merged_5, aws_ta_grouped, on = ['add','yyyymmdd'])\n",
    "merged_7 = pd.merge(merged_6, fore_rhm_grouped, on = ['add','yyyymmdd'])"
   ]
  },
  {
   "cell_type": "markdown",
   "id": "8d10ddb0-118e-4fbe-8467-9175d9b35530",
   "metadata": {},
   "source": [
    "### 데이터 병합과정에서 불필요하게 추가된 변수들을 제거해주는 코드"
   ]
  },
  {
   "cell_type": "code",
   "execution_count": null,
   "id": "dd1ded0e-5955-42d4-a5e6-6469541716bc",
   "metadata": {},
   "outputs": [],
   "source": [
    "# 모든 변수명 확인\n",
    "merged_7.columns"
   ]
  },
  {
   "cell_type": "code",
   "execution_count": null,
   "id": "66847ea1-6566-4ef8-a5be-cce7fc01a5a1",
   "metadata": {},
   "outputs": [],
   "source": [
    "merged_7.drop(['Unnamed: 0_x', 'stn_id_x', 'lat_x', 'long_x', 'isnull', 'stn_id_y', 'lat_y', 'long_y', 'stn_id_x', 'Unnamed: 0_y'], axis=1, inplace=True)"
   ]
  },
  {
   "cell_type": "markdown",
   "id": "7c13323e-e88d-4314-9cb9-b6bd72c1ab6f",
   "metadata": {},
   "source": [
    "### 데이터 확인 및 저장"
   ]
  },
  {
   "cell_type": "code",
   "execution_count": null,
   "id": "e94b875a-4304-44a7-aaa5-7eae15bde7aa",
   "metadata": {},
   "outputs": [],
   "source": [
    "merged_7"
   ]
  },
  {
   "cell_type": "code",
   "execution_count": null,
   "id": "a9b2897f-1576-4840-8626-a9c8e525b6e1",
   "metadata": {},
   "outputs": [],
   "source": [
    "merged_7.to_csv('/home/jupyter/climate/data/final_train.csv')"
   ]
  },
  {
   "cell_type": "markdown",
   "id": "eccff853-3279-4d12-aeb4-14ea7795dee4",
   "metadata": {},
   "source": [
    "## 모델평가용 데이터 병합"
   ]
  },
  {
   "cell_type": "code",
   "execution_count": null,
   "id": "6ee4640a-114c-4ba2-a3b1-083aa61aafec",
   "metadata": {},
   "outputs": [],
   "source": [
    "hospital = pd.read_csv('/home/jupyter/climate/data/back_testset.csv', header = 0)\n",
    "sfc_prsr = pd.read_csv('/home/jupyter/climate/data/final_sfc_prsr_0723.csv', header = 0)\n",
    "sfc_td = pd.read_csv('/home/jupyter/climate/data/final_sfc_td_0723.csv', header = 0)\n",
    "sfc_ta = pd.read_csv('/home/jupyter/climate/data/final_sfc_ta_0723.csv', header = 0)\n",
    "ydst = pd.read_csv('/home/jupyter/climate/data/final_ydst_pm10_ver1_0723.csv', header = 0)\n",
    "aws_ta = pd.read_csv('/home/jupyter/climate/data/final_aws_ta_0713.csv', header = 0)\n",
    "fore_rhm = pd.read_csv('/home/jupyter/climate/data/final_fore_rhm_0801_2313.csv', header = 0)\n",
    "hospital = hospital.rename(columns={'back_hospital.area' : 'add'})\n",
    "hospital = hospital.rename(columns={'back_hospital.yyyymmdd' : 'yyyymmdd'})\n",
    "hospital = hospital.rename(columns={'back_hospital.sex' : 'sex'})\n",
    "hospital = hospital.rename(columns={'back_hospital.frequency' : 'frequency'})\n",
    "ydst = ydst.rename(columns={'area' : 'add'})\n",
    "\n",
    "hospital = hospital.rename(columns={'area' : 'add'})\n",
    "ydst = ydst.rename(columns={'area' : 'add'})"
   ]
  },
  {
   "cell_type": "code",
   "execution_count": null,
   "id": "80ed80be-7eaa-4972-9b37-a32f657f4a1b",
   "metadata": {},
   "outputs": [],
   "source": [
    "prsr_sejong = sfc_prsr[sfc_prsr['add'].isin(['충남', '충북', '대전'])].groupby(['yyyymmdd'], as_index=False).mean().assign(add='세종')\n",
    "sfc_prsr = sfc_prsr.append(prsr_sejong)\n",
    "\n",
    "ta_sejong = sfc_ta[sfc_ta['add'].isin(['충남', '충북', '대전'])].groupby(['yyyymmdd'], as_index=False).mean().assign(add='세종')\n",
    "sfc_ta = sfc_ta.append(ta_sejong)\n",
    "\n",
    "td_sejong = sfc_td[sfc_td['add'].isin(['충남', '충북', '대전'])].groupby(['yyyymmdd'], as_index=False).mean().assign(add='세종')\n",
    "sfc_td = sfc_td.append(td_sejong)"
   ]
  },
  {
   "cell_type": "code",
   "execution_count": null,
   "id": "6a6108a2-1d38-4830-b4d3-e1a55598bb77",
   "metadata": {},
   "outputs": [],
   "source": [
    "sfc_prsr_grouped = sfc_prsr.groupby(['yyyymmdd','add']).mean()\n",
    "sfc_ta_grouped = sfc_ta.groupby(['yyyymmdd','add']).mean()\n",
    "sfc_td_grouped = sfc_td.groupby(['yyyymmdd','add']).mean()\n",
    "ydst_grouped = ydst.groupby(['yyyymmdd','add']).mean()\n",
    "aws_ta_grouped = aws_ta.groupby(['yyyymmdd','add']).mean()\n",
    "fore_rhm_grouped = fore_rhm.groupby(['yyyymmdd','add']).mean()"
   ]
  },
  {
   "cell_type": "markdown",
   "id": "25f3c474-4ce7-40c5-ab32-ee9a7156fe0d",
   "metadata": {},
   "source": [
    "### 제공된 테스트 데이터의 날짜 형식 변환"
   ]
  },
  {
   "cell_type": "code",
   "execution_count": null,
   "id": "d60f5a74-5a7b-42c0-b4af-d7987c83fadc",
   "metadata": {},
   "outputs": [],
   "source": [
    "hospital['yyyymmdd']"
   ]
  },
  {
   "cell_type": "code",
   "execution_count": null,
   "id": "e74c537c-e027-4a3f-a270-06cd69ecf5fb",
   "metadata": {},
   "outputs": [],
   "source": [
    "hospital['yyyymmdd'] = pd.to_datetime(hospital['yyyymmdd'], format='%Y-%m-%d')\n",
    "hospital['yyyymmdd'] = hospital['yyyymmdd'].dt.strftime('%Y%m%d')\n",
    "hospital['yyyymmdd'] = hospital['yyyymmdd'].astype(int)"
   ]
  },
  {
   "cell_type": "code",
   "execution_count": null,
   "id": "707efab2-2d4f-4557-97b5-03ccb364ba11",
   "metadata": {},
   "outputs": [],
   "source": [
    "merged_1 = pd.merge(hospital, sfc_prsr_grouped, on = ['add','yyyymmdd'])\n",
    "merged_2 = pd.merge(merged_1, sfc_ta_grouped, on = ['add','yyyymmdd'])\n",
    "merged_3 = pd.merge(merged_2, sfc_ta_grouped, on = ['add','yyyymmdd'])\n",
    "merged_4 = pd.merge(merged_3, sfc_td_grouped, on = ['add','yyyymmdd'])\n",
    "merged_5 = pd.merge(merged_4, ydst_grouped, on = ['add','yyyymmdd'])\n",
    "merged_6 = pd.merge(merged_5, aws_ta_grouped, on = ['add','yyyymmdd'])\n",
    "merged_7 = pd.merge(merged_6, fore_rhm_grouped, on = ['add','yyyymmdd'])"
   ]
  },
  {
   "cell_type": "code",
   "execution_count": null,
   "id": "ba642492-09cf-4c97-82e7-8dd6c8555257",
   "metadata": {},
   "outputs": [],
   "source": [
    "merged_7.columns"
   ]
  },
  {
   "cell_type": "code",
   "execution_count": null,
   "id": "6c0e95e3-d5a8-4a61-9c4f-14341bb3c0db",
   "metadata": {},
   "outputs": [],
   "source": [
    "merged_7.drop(['stn_id_x', 'lat_x', 'long_x', 'isnull', 'stn_id_y', 'lat_y', 'long_y', 'Unnamed: 0'], axis=1, inplace=True)"
   ]
  },
  {
   "cell_type": "markdown",
   "id": "f45a239e-dcc1-4e22-8186-95dd5f192a49",
   "metadata": {},
   "source": [
    "### 데이터 확인 및 저장 저장"
   ]
  },
  {
   "cell_type": "code",
   "execution_count": null,
   "id": "214c9330-0381-47a0-87f4-e0e90cb8c413",
   "metadata": {},
   "outputs": [],
   "source": [
    "merged_7"
   ]
  },
  {
   "cell_type": "code",
   "execution_count": null,
   "id": "743e7ad7-ca40-47ad-9885-c339582e5e40",
   "metadata": {},
   "outputs": [],
   "source": [
    "merged_7.to_csv('/home/jupyter/climate/data/final_test.csv')"
   ]
  }
 ],
 "metadata": {
  "environment": {
   "kernel": "python3",
   "name": "r-cpu.4-1.m94",
   "type": "gcloud",
   "uri": "gcr.io/deeplearning-platform-release/r-cpu.4-1:m94"
  },
  "kernelspec": {
   "display_name": "Python 3.9.7 64-bit",
   "language": "python",
   "name": "python3"
  },
  "language_info": {
   "codemirror_mode": {
    "name": "ipython",
    "version": 3
   },
   "file_extension": ".py",
   "mimetype": "text/x-python",
   "name": "python",
   "nbconvert_exporter": "python",
   "pygments_lexer": "ipython3",
   "version": "3.9.7"
  },
  "vscode": {
   "interpreter": {
    "hash": "82ed002fa2d4956f5c6aec99bcefe0f73a9f79882f3c9e2319b14958a5896ac5"
   }
  }
 },
 "nbformat": 4,
 "nbformat_minor": 5
}
